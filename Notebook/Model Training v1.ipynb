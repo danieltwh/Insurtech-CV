{
 "cells": [
  {
   "cell_type": "code",
   "execution_count": null,
   "source": [
    "import os\r\n",
    "import sys\r\n",
    "import json\r\n",
    "import datetime\r\n",
    "import numpy as np\r\n",
    "import pandas as pd\r\n",
    "import skimage.draw\r\n",
    "import matplotlib.pyplot as plt"
   ],
   "outputs": [],
   "metadata": {}
  },
  {
   "cell_type": "code",
   "execution_count": null,
   "source": [
    "import keras"
   ],
   "outputs": [],
   "metadata": {}
  },
  {
   "cell_type": "code",
   "execution_count": null,
   "source": [
    "keras.__version__"
   ],
   "outputs": [],
   "metadata": {}
  },
  {
   "cell_type": "code",
   "execution_count": null,
   "source": [
    "# Root directory of the project\r\n",
    "ROOT_DIR = os.path.abspath(\"../Mask_RCNN\")\r\n",
    " \r\n",
    "# Import Mask RCNN\r\n",
    "sys.path.append(ROOT_DIR)  # To find local version of the library\r\n",
    "from mrcnn.visualize import display_instances\r\n",
    "from mrcnn.config import Config\r\n",
    "from mrcnn import model as modellib, utils\r\n",
    " \r\n",
    "# Path to trained weights file\r\n",
    "# COCO_WEIGHTS_PATH = os.path.join(ROOT_DIR, \"mask_rcnn_coco.h5\")\r\n",
    " \r\n",
    "# Directory to save logs and model checkpoints, if not provided\r\n",
    "# through the command line argument --logs\r\n",
    "DEFAULT_LOGS_DIR = os.path.join(ROOT_DIR, \"logs\")"
   ],
   "outputs": [],
   "metadata": {}
  },
  {
   "cell_type": "code",
   "execution_count": null,
   "source": [
    "class CustomConfig(Config):\r\n",
    "    \"\"\"Configuration for training on the toy  dataset.\r\n",
    "    Derives from the base Config class and overrides some values.\r\n",
    "    \"\"\"\r\n",
    "    # Give the configuration a recognizable name\r\n",
    "    NAME = \"damage\"\r\n",
    "    \r\n",
    "    GPU_COUNT = 1\r\n",
    "    \r\n",
    "    # We use a GPU with 12GB memory, which can fit two images.\r\n",
    "    # Adjust down if you use a smaller GPU.\r\n",
    "    IMAGES_PER_GPU = 1\r\n",
    " \r\n",
    "    # Number of classes (including background)\r\n",
    "    NUM_CLASSES = 1 + 2  # Background + toy\r\n",
    " \r\n",
    "    # Number of training steps per epoch\r\n",
    "    STEPS_PER_EPOCH = 30\r\n",
    " \r\n",
    "    # Skip detections with < 90% confidence\r\n",
    "    DETECTION_MIN_CONFIDENCE = 0.9"
   ],
   "outputs": [],
   "metadata": {}
  },
  {
   "cell_type": "markdown",
   "source": [
    "# Dataset Class"
   ],
   "metadata": {}
  },
  {
   "cell_type": "code",
   "execution_count": null,
   "source": [
    "\r\n",
    "annotations1 = json.load(open(os.path.join(\"./dataset_test1/\", \"via_region_data.json\")))\r\n",
    "\r\n",
    "annotations = list(annotations1.values())  "
   ],
   "outputs": [],
   "metadata": {}
  },
  {
   "cell_type": "code",
   "execution_count": null,
   "source": [
    "annotations = [a for a in annotations if a['regions']]"
   ],
   "outputs": [],
   "metadata": {}
  },
  {
   "cell_type": "code",
   "execution_count": null,
   "source": [
    "a = annotations[0]\r\n",
    "polygons = [r[\"shape_attributes\"] for r in a[\"regions\"]]\r\n",
    "damages = [r[\"region_attributes\"][\"Severity\"] for r in a['regions']]"
   ],
   "outputs": [],
   "metadata": {}
  },
  {
   "cell_type": "code",
   "execution_count": null,
   "source": [
    "polygons"
   ],
   "outputs": [],
   "metadata": {}
  },
  {
   "cell_type": "code",
   "execution_count": null,
   "source": [],
   "outputs": [],
   "metadata": {}
  },
  {
   "cell_type": "code",
   "execution_count": null,
   "source": [
    "damage_to_id = {\"Light Scratches\": 1,\r\n",
    "                \"Moderate Scratches\": 2,\r\n",
    "                \"Light Dent\": 3,\r\n",
    "                \"Moderate Dent\": 4,\r\n",
    "                \"Severe Dent\": 5 \r\n",
    "               }"
   ],
   "outputs": [],
   "metadata": {}
  },
  {
   "cell_type": "code",
   "execution_count": null,
   "source": [
    "num_ids = [damage_to_id[list(damage.keys())[0]] for damage in damages]"
   ],
   "outputs": [],
   "metadata": {}
  },
  {
   "cell_type": "code",
   "execution_count": null,
   "source": [
    "num_ids"
   ],
   "outputs": [],
   "metadata": {}
  },
  {
   "cell_type": "code",
   "execution_count": null,
   "source": [],
   "outputs": [],
   "metadata": {}
  },
  {
   "cell_type": "code",
   "execution_count": null,
   "source": [],
   "outputs": [],
   "metadata": {}
  },
  {
   "cell_type": "code",
   "execution_count": null,
   "source": [
    "class CustomDataset(utils.Dataset):\r\n",
    " \r\n",
    "    def load_custom(self, input_dir, subset):\r\n",
    "        \"\"\"Load a subset of the bottle dataset.\r\n",
    "        dataset_dir: Root directory of the dataset.\r\n",
    "        subset: Subset to load: train or val\r\n",
    "        \"\"\"\r\n",
    "        # Add classes. We have only one class to add.\r\n",
    "        self.add_class(\"damage\", 1, \"scratches\")\r\n",
    "        self.add_class(\"damage\", 2, \"dents\")\r\n",
    "        #self.add_class(\"damage\", 3, \"light_dent\")\r\n",
    "        #self.add_class(\"damage\", 4, \"moderate_dent\")\r\n",
    "        #self.add_class(\"damage\", 5, \"severe_dent\")\r\n",
    "        \r\n",
    "        assert subset in [\"train\", \"val\"]\r\n",
    "        \r\n",
    "        dataset_dir = os.path.join(input_dir, subset)\r\n",
    " \r\n",
    "        # Load annotations\r\n",
    "        # VGG Image Annotator saves each image in the form:\r\n",
    "        # { 'filename': '28503151_5b5b7ec140_b.jpg',\r\n",
    "        #   'regions': {\r\n",
    "        #       '0': {\r\n",
    "        #           'region_attributes': {},\r\n",
    "        #           'shape_attributes': {\r\n",
    "        #               'all_points_x': [...],\r\n",
    "        #               'all_points_y': [...],\r\n",
    "        #               'name': 'polygon'}},\r\n",
    "        #       ... more regions ...\r\n",
    "        #   },\r\n",
    "        #   'size': 100202\r\n",
    "        # }\r\n",
    "        # We mostly care about the x and y coordinates of each region\r\n",
    "#         annotations1 = json.load(open(os.path.join(dataset_dir, \"via_region_data.json\")))\r\n",
    "        annotations1 = json.load(open(os.path.join(dataset_dir, \"via_region_data.json\")))\r\n",
    "        # print(annotations1)\r\n",
    "        annotations = list(annotations1.values())  # don't need the dict keys\r\n",
    " \r\n",
    "        # The VIA tool saves images in the JSON even if they don't have any\r\n",
    "        # annotations. Skip unannotated images.\r\n",
    "        annotations = [a for a in annotations if a['regions']]\r\n",
    "        \r\n",
    "        count = 1\r\n",
    "        # Add images\r\n",
    "        for a in annotations:\r\n",
    "            print(count)\r\n",
    "            count+=1\r\n",
    "            \r\n",
    "            print(a[\"filename\"])\r\n",
    "            # print(a)\r\n",
    "            # Get the x, y coordinaets of points of the polygons that make up\r\n",
    "            # the outline of each object instance. There are stores in the\r\n",
    "            # shape_attributes (see json format above)\r\n",
    "            polygons = [r[\"shape_attributes\"] for r in a[\"regions\"]]\r\n",
    "            damages = [r[\"region_attributes\"][\"Severity\"] for r in a['regions']]\r\n",
    "            print(\"Damages:\",damages)\r\n",
    "            damage_to_id = {\"Light Scratches\": 1,\r\n",
    "                            \"Moderate Scratches\": 1,\r\n",
    "                            \"Light Dent\": 2,\r\n",
    "                            \"Moderate Dent\": 2,\r\n",
    "                            \"Severe Dent\": 2 \r\n",
    "                           }\r\n",
    "            # key = tuple(name_dict)\r\n",
    "            num_ids = [damage_to_id[list(damage.keys())[0]] for damage in damages]\r\n",
    " \r\n",
    "            # num_ids = [int(n['Event']) for n in objects]\r\n",
    "            # load_mask() needs the image size to convert polygons to masks.\r\n",
    "            # Unfortunately, VIA doesn't include it in JSON, so we must read\r\n",
    "            # the image. This is only managable since the dataset is tiny.\r\n",
    "            print(\"numids\",num_ids)\r\n",
    "            image_path = os.path.join(dataset_dir, a['filename'])\r\n",
    "            image = skimage.io.imread(image_path)\r\n",
    "            height, width = image.shape[:2]\r\n",
    " \r\n",
    "            self.add_image(\r\n",
    "                \"damage\",  \r\n",
    "                image_id=a['filename'],  # file name has a unique image id\r\n",
    "                path=image_path,\r\n",
    "                width=width, height=height,\r\n",
    "                polygons=polygons,\r\n",
    "                num_ids=num_ids)\r\n",
    "    \r\n",
    "    \r\n",
    "    def load_mask(self, image_id):\r\n",
    "        \"\"\"Generate instance masks for an image.\r\n",
    "       Returns:\r\n",
    "        masks: A bool array of shape [height, width, instance count] with\r\n",
    "            one mask per instance.\r\n",
    "        class_ids: a 1D array of class IDs of the instance masks.\r\n",
    "        \"\"\"\r\n",
    "        # If not a bottle dataset image, delegate to parent class.\r\n",
    "        image_info = self.image_info[image_id]\r\n",
    "        if image_info[\"source\"] != \"damage\":\r\n",
    "            return super(self.__class__, self).load_mask(image_id)\r\n",
    " \r\n",
    "        # Convert polygons to a bitmap mask of shape\r\n",
    "        # [height, width, instance_count]\r\n",
    "        info = self.image_info[image_id]\r\n",
    "        if info[\"source\"] != \"damage\":\r\n",
    "            return super(self.__class__, self).load_mask(image_id)\r\n",
    "        num_ids = info['num_ids']\r\n",
    "        mask = np.zeros([info[\"height\"], info[\"width\"], len(info[\"polygons\"])],\r\n",
    "                        dtype=np.uint8)\r\n",
    "        for i, p in enumerate(info[\"polygons\"]):\r\n",
    "            rr, cc = skimage.draw.polygon(p['all_points_y'], p['all_points_x'])\r\n",
    "            mask[rr, cc, i] = 1\r\n",
    " \r\n",
    "        # Return mask, and array of class IDs of each instance. Since we have\r\n",
    "        # one class ID only, we return an array of 1s\r\n",
    "        # Map class names to class IDs.\r\n",
    "        num_ids = np.array(num_ids, dtype=np.int32)\r\n",
    "        return mask, num_ids"
   ],
   "outputs": [],
   "metadata": {}
  },
  {
   "cell_type": "code",
   "execution_count": null,
   "source": [
    "train_set = CustomDataset()"
   ],
   "outputs": [],
   "metadata": {}
  },
  {
   "cell_type": "code",
   "execution_count": null,
   "source": [
    "train_set.load_custom(\"./dataset_train1/\", \"train\")"
   ],
   "outputs": [],
   "metadata": {}
  },
  {
   "cell_type": "markdown",
   "source": [
    "## Testing the Train Dataset"
   ],
   "metadata": {}
  },
  {
   "cell_type": "code",
   "execution_count": null,
   "source": [
    "image_id = 4\r\n",
    "\r\n",
    "image = train_set.load_image(image_id)\r\n",
    "print(image.shape)\r\n",
    "\r\n",
    "mask, class_id = train_set.load_mask(image_id)\r\n",
    "print(mask.shape)"
   ],
   "outputs": [],
   "metadata": {}
  },
  {
   "cell_type": "code",
   "execution_count": null,
   "source": [
    "plt.imshow(image)\r\n",
    "plt.show()"
   ],
   "outputs": [],
   "metadata": {}
  },
  {
   "cell_type": "code",
   "execution_count": null,
   "source": [
    "plt.imshow(mask)\r\n",
    "plt.show()"
   ],
   "outputs": [],
   "metadata": {}
  },
  {
   "cell_type": "markdown",
   "source": [
    "# Training Function & Other Functions"
   ],
   "metadata": {}
  },
  {
   "cell_type": "code",
   "execution_count": null,
   "source": [
    "dataset_dir = \"./dataset_train2/\""
   ],
   "outputs": [],
   "metadata": {}
  },
  {
   "cell_type": "code",
   "execution_count": null,
   "source": [
    "def train(model):\r\n",
    "    \"\"\"Train the model.\"\"\"\r\n",
    "    # Training dataset.\r\n",
    "    dataset_train = CustomDataset()\r\n",
    "    dataset_train.load_custom(dataset_dir)\r\n",
    "    dataset_train.prepare()\r\n",
    " \r\n",
    "    # Validation dataset\r\n",
    "#     dataset_val = CustomDataset()\r\n",
    "#     dataset_val.load_custom(dataset_dir)\r\n",
    "#     dataset_val.prepare()\r\n",
    " \r\n",
    "    # *** This training schedule is an example. Update to your needs ***\r\n",
    "    # Since we're using a very small dataset, and starting from\r\n",
    "    # COCO trained weights, we don't need to train too long. Also,\r\n",
    "    # no need to train all layers, just the heads should do it.\r\n",
    "    print(\"Training network heads\")\r\n",
    "    model.train(dataset_train, dataset_val,\r\n",
    "                learning_rate=config.LEARNING_RATE,\r\n",
    "                epochs=2,\r\n",
    "                layers='heads')"
   ],
   "outputs": [],
   "metadata": {}
  },
  {
   "cell_type": "code",
   "execution_count": null,
   "source": [
    "dataset_train = CustomDataset()\r\n",
    "dataset_train.load_custom(dataset_dir, \"train\")\r\n",
    "dataset_train.prepare()"
   ],
   "outputs": [],
   "metadata": {}
  },
  {
   "cell_type": "code",
   "execution_count": null,
   "source": [
    "dataset_test = CustomDataset()\r\n",
    "dataset_test.load_custom(dataset_dir, \"val\")\r\n",
    "dataset_test.prepare()"
   ],
   "outputs": [],
   "metadata": {}
  },
  {
   "cell_type": "code",
   "execution_count": null,
   "source": [],
   "outputs": [],
   "metadata": {}
  },
  {
   "cell_type": "code",
   "execution_count": null,
   "source": [
    "config = CustomConfig()"
   ],
   "outputs": [],
   "metadata": {}
  },
  {
   "cell_type": "code",
   "execution_count": null,
   "source": [
    "logs = \"./log_v7/\""
   ],
   "outputs": [],
   "metadata": {}
  },
  {
   "cell_type": "code",
   "execution_count": null,
   "source": [
    "model = modellib.MaskRCNN(mode=\"training\", config = config, model_dir = logs)"
   ],
   "outputs": [],
   "metadata": {}
  },
  {
   "cell_type": "code",
   "execution_count": null,
   "source": [
    "# Loading the COCO weights\r\n",
    "COCO_WEIGHTS_PATH = \"mask_rcnn_damage_0040.h5\"\r\n",
    "\r\n",
    "model.load_weights(COCO_WEIGHTS_PATH, by_name=True, exclude=[\r\n",
    "    \"mrcnn_class_logits\", \"mrcnn_bbox_fc\",\r\n",
    "            \"mrcnn_bbox\", \"mrcnn_mask\"\r\n",
    "])"
   ],
   "outputs": [],
   "metadata": {}
  },
  {
   "cell_type": "code",
   "execution_count": null,
   "source": [
    "history = model.train(dataset_train, dataset_test,\r\n",
    "                learning_rate=config.LEARNING_RATE,\r\n",
    "                epochs=50,\r\n",
    "                layers='all')"
   ],
   "outputs": [],
   "metadata": {}
  },
  {
   "cell_type": "code",
   "execution_count": null,
   "source": [],
   "outputs": [],
   "metadata": {}
  },
  {
   "cell_type": "code",
   "execution_count": null,
   "source": [],
   "outputs": [],
   "metadata": {}
  },
  {
   "cell_type": "code",
   "execution_count": null,
   "source": [],
   "outputs": [],
   "metadata": {}
  },
  {
   "cell_type": "code",
   "execution_count": null,
   "source": [],
   "outputs": [],
   "metadata": {}
  }
 ],
 "metadata": {
  "kernelspec": {
   "name": "python3",
   "display_name": "Python 3.7.11 64-bit (conda)"
  },
  "language_info": {
   "codemirror_mode": {
    "name": "ipython",
    "version": 3
   },
   "file_extension": ".py",
   "mimetype": "text/x-python",
   "name": "python",
   "nbconvert_exporter": "python",
   "pygments_lexer": "ipython3",
   "version": "3.7.11"
  },
  "interpreter": {
   "hash": "9a4d34ce71ff5dd69c28f9aa83b09a3c2542386b19ee2b2f922a863dd43d7690"
  }
 },
 "nbformat": 4,
 "nbformat_minor": 5
}