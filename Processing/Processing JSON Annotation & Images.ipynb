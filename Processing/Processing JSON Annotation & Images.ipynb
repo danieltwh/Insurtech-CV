{
 "cells": [
  {
   "cell_type": "code",
   "execution_count": 1,
   "metadata": {},
   "outputs": [],
   "source": [
    "import os\n",
    "import re\n",
    "import numpy as np\n",
    "import pandas as pd\n",
    "import json\n",
    "import glob"
   ]
  },
  {
   "cell_type": "code",
   "execution_count": 17,
   "metadata": {
    "scrolled": false
   },
   "outputs": [],
   "source": [
    "df1 = pd.read_json(\"via_region_data.json\", orient=\"index\")"
   ]
  },
  {
   "cell_type": "code",
   "execution_count": 85,
   "metadata": {},
   "outputs": [],
   "source": [
    "df2 = pd.read_json(\"via_region_data 2.json\", orient=\"index\")"
   ]
  },
  {
   "cell_type": "code",
   "execution_count": 90,
   "metadata": {},
   "outputs": [],
   "source": [
    "df3 = pd.read_json(\"via_region_data 3.json\", orient=\"index\")\n",
    "df4 = pd.read_json(\"via_region_data 4.json\", orient=\"index\")"
   ]
  },
  {
   "cell_type": "code",
   "execution_count": 45,
   "metadata": {},
   "outputs": [],
   "source": [
    "df1 = df1[3:]"
   ]
  },
  {
   "cell_type": "code",
   "execution_count": 53,
   "metadata": {},
   "outputs": [],
   "source": [
    "df1= df1.reset_index()"
   ]
  },
  {
   "cell_type": "code",
   "execution_count": 54,
   "metadata": {
    "scrolled": false
   },
   "outputs": [
    {
     "data": {
      "text/html": [
       "<div>\n",
       "<style scoped>\n",
       "    .dataframe tbody tr th:only-of-type {\n",
       "        vertical-align: middle;\n",
       "    }\n",
       "\n",
       "    .dataframe tbody tr th {\n",
       "        vertical-align: top;\n",
       "    }\n",
       "\n",
       "    .dataframe thead th {\n",
       "        text-align: right;\n",
       "    }\n",
       "</style>\n",
       "<table border=\"1\" class=\"dataframe\">\n",
       "  <thead>\n",
       "    <tr style=\"text-align: right;\">\n",
       "      <th></th>\n",
       "      <th>index</th>\n",
       "      <th>fileref</th>\n",
       "      <th>size</th>\n",
       "      <th>filename</th>\n",
       "      <th>base64_img_data</th>\n",
       "      <th>file_attributes</th>\n",
       "      <th>regions</th>\n",
       "    </tr>\n",
       "  </thead>\n",
       "  <tbody>\n",
       "    <tr>\n",
       "      <th>0</th>\n",
       "      <td>image67.jpg47277</td>\n",
       "      <td></td>\n",
       "      <td>47277</td>\n",
       "      <td>image67.jpg</td>\n",
       "      <td></td>\n",
       "      <td>{}</td>\n",
       "      <td>{'0': {'shape_attributes': {'name': 'polygon',...</td>\n",
       "    </tr>\n",
       "    <tr>\n",
       "      <th>1</th>\n",
       "      <td>image66.jpg19024</td>\n",
       "      <td></td>\n",
       "      <td>19024</td>\n",
       "      <td>image66.jpg</td>\n",
       "      <td></td>\n",
       "      <td>{}</td>\n",
       "      <td>{'0': {'shape_attributes': {'name': 'polygon',...</td>\n",
       "    </tr>\n",
       "    <tr>\n",
       "      <th>2</th>\n",
       "      <td>image65.jpg102144</td>\n",
       "      <td></td>\n",
       "      <td>102144</td>\n",
       "      <td>image65.jpg</td>\n",
       "      <td></td>\n",
       "      <td>{}</td>\n",
       "      <td>{'0': {'shape_attributes': {'name': 'polygon',...</td>\n",
       "    </tr>\n",
       "    <tr>\n",
       "      <th>3</th>\n",
       "      <td>image64.jpg85335</td>\n",
       "      <td></td>\n",
       "      <td>85335</td>\n",
       "      <td>image64.jpg</td>\n",
       "      <td></td>\n",
       "      <td>{}</td>\n",
       "      <td>{'0': {'shape_attributes': {'name': 'polygon',...</td>\n",
       "    </tr>\n",
       "    <tr>\n",
       "      <th>4</th>\n",
       "      <td>image63.jpg24447</td>\n",
       "      <td></td>\n",
       "      <td>24447</td>\n",
       "      <td>image63.jpg</td>\n",
       "      <td></td>\n",
       "      <td>{}</td>\n",
       "      <td>{'0': {'shape_attributes': {'name': 'polygon',...</td>\n",
       "    </tr>\n",
       "  </tbody>\n",
       "</table>\n",
       "</div>"
      ],
      "text/plain": [
       "               index fileref    size     filename base64_img_data  \\\n",
       "0   image67.jpg47277           47277  image67.jpg                   \n",
       "1   image66.jpg19024           19024  image66.jpg                   \n",
       "2  image65.jpg102144          102144  image65.jpg                   \n",
       "3   image64.jpg85335           85335  image64.jpg                   \n",
       "4   image63.jpg24447           24447  image63.jpg                   \n",
       "\n",
       "  file_attributes                                            regions  \n",
       "0              {}  {'0': {'shape_attributes': {'name': 'polygon',...  \n",
       "1              {}  {'0': {'shape_attributes': {'name': 'polygon',...  \n",
       "2              {}  {'0': {'shape_attributes': {'name': 'polygon',...  \n",
       "3              {}  {'0': {'shape_attributes': {'name': 'polygon',...  \n",
       "4              {}  {'0': {'shape_attributes': {'name': 'polygon',...  "
      ]
     },
     "execution_count": 54,
     "metadata": {},
     "output_type": "execute_result"
    }
   ],
   "source": [
    "df1.head()"
   ]
  },
  {
   "cell_type": "code",
   "execution_count": 88,
   "metadata": {},
   "outputs": [],
   "source": [
    "df2 = df2.reset_index()"
   ]
  },
  {
   "cell_type": "code",
   "execution_count": 89,
   "metadata": {},
   "outputs": [
    {
     "data": {
      "text/html": [
       "<div>\n",
       "<style scoped>\n",
       "    .dataframe tbody tr th:only-of-type {\n",
       "        vertical-align: middle;\n",
       "    }\n",
       "\n",
       "    .dataframe tbody tr th {\n",
       "        vertical-align: top;\n",
       "    }\n",
       "\n",
       "    .dataframe thead th {\n",
       "        text-align: right;\n",
       "    }\n",
       "</style>\n",
       "<table border=\"1\" class=\"dataframe\">\n",
       "  <thead>\n",
       "    <tr style=\"text-align: right;\">\n",
       "      <th></th>\n",
       "      <th>index</th>\n",
       "      <th>fileref</th>\n",
       "      <th>size</th>\n",
       "      <th>filename</th>\n",
       "      <th>base64_img_data</th>\n",
       "      <th>file_attributes</th>\n",
       "      <th>regions</th>\n",
       "    </tr>\n",
       "  </thead>\n",
       "  <tbody>\n",
       "    <tr>\n",
       "      <th>0</th>\n",
       "      <td>image80.jpg19410</td>\n",
       "      <td></td>\n",
       "      <td>19410</td>\n",
       "      <td>image80.jpg</td>\n",
       "      <td></td>\n",
       "      <td>{}</td>\n",
       "      <td>{'0': {'shape_attributes': {'name': 'polygon',...</td>\n",
       "    </tr>\n",
       "    <tr>\n",
       "      <th>1</th>\n",
       "      <td>image75.jpeg3494</td>\n",
       "      <td></td>\n",
       "      <td>3494</td>\n",
       "      <td>image75.jpeg</td>\n",
       "      <td></td>\n",
       "      <td>{}</td>\n",
       "      <td>{'0': {'shape_attributes': {'name': 'polygon',...</td>\n",
       "    </tr>\n",
       "    <tr>\n",
       "      <th>2</th>\n",
       "      <td>image79.jpg22265</td>\n",
       "      <td></td>\n",
       "      <td>22265</td>\n",
       "      <td>image79.jpg</td>\n",
       "      <td></td>\n",
       "      <td>{}</td>\n",
       "      <td>{'0': {'shape_attributes': {'name': 'polygon',...</td>\n",
       "    </tr>\n",
       "    <tr>\n",
       "      <th>3</th>\n",
       "      <td>image78.jpg24447</td>\n",
       "      <td></td>\n",
       "      <td>24447</td>\n",
       "      <td>image78.jpg</td>\n",
       "      <td></td>\n",
       "      <td>{}</td>\n",
       "      <td>{'0': {'shape_attributes': {'name': 'polygon',...</td>\n",
       "    </tr>\n",
       "    <tr>\n",
       "      <th>4</th>\n",
       "      <td>image77.jpg285224</td>\n",
       "      <td></td>\n",
       "      <td>285224</td>\n",
       "      <td>image77.jpg</td>\n",
       "      <td></td>\n",
       "      <td>{}</td>\n",
       "      <td>{'0': {'shape_attributes': {'name': 'polygon',...</td>\n",
       "    </tr>\n",
       "  </tbody>\n",
       "</table>\n",
       "</div>"
      ],
      "text/plain": [
       "               index fileref    size      filename base64_img_data  \\\n",
       "0   image80.jpg19410           19410   image80.jpg                   \n",
       "1   image75.jpeg3494            3494  image75.jpeg                   \n",
       "2   image79.jpg22265           22265   image79.jpg                   \n",
       "3   image78.jpg24447           24447   image78.jpg                   \n",
       "4  image77.jpg285224          285224   image77.jpg                   \n",
       "\n",
       "  file_attributes                                            regions  \n",
       "0              {}  {'0': {'shape_attributes': {'name': 'polygon',...  \n",
       "1              {}  {'0': {'shape_attributes': {'name': 'polygon',...  \n",
       "2              {}  {'0': {'shape_attributes': {'name': 'polygon',...  \n",
       "3              {}  {'0': {'shape_attributes': {'name': 'polygon',...  \n",
       "4              {}  {'0': {'shape_attributes': {'name': 'polygon',...  "
      ]
     },
     "execution_count": 89,
     "metadata": {},
     "output_type": "execute_result"
    }
   ],
   "source": [
    "df2.head()"
   ]
  },
  {
   "cell_type": "code",
   "execution_count": 91,
   "metadata": {},
   "outputs": [],
   "source": [
    "d = {\"index\": [], \"filename\":[], \"size\": [], \"regions\":[], \"file_attributes\":[]}"
   ]
  },
  {
   "cell_type": "code",
   "execution_count": 92,
   "metadata": {},
   "outputs": [],
   "source": [
    "for index, row in df1.iterrows():\n",
    "#     print(row[\"filename\"])\n",
    "    \n",
    "    name = row[\"filename\"]\n",
    "    size = row[\"size\"]\n",
    "    regions = list(row[\"regions\"].values())\n",
    "    file_attributes= {}\n",
    "    \n",
    "    d[\"index\"].append(name)\n",
    "    d[\"filename\"].append(name)\n",
    "    d[\"size\"].append(size)\n",
    "    d[\"regions\"].append(regions)\n",
    "    d[\"file_attributes\"].append(file_attributes)\n",
    "    \n",
    "for index, row in df2.iterrows():\n",
    "#     print(row[\"filename\"])\n",
    "    \n",
    "    name = row[\"filename\"]\n",
    "    size = row[\"size\"]\n",
    "    regions = list(row[\"regions\"].values())\n",
    "    file_attributes= {}\n",
    "    \n",
    "    d[\"index\"].append(name)\n",
    "    d[\"filename\"].append(name)\n",
    "    d[\"size\"].append(size)\n",
    "    d[\"regions\"].append(regions)\n",
    "    d[\"file_attributes\"].append(file_attributes) \n",
    "    \n",
    "    "
   ]
  },
  {
   "cell_type": "code",
   "execution_count": 99,
   "metadata": {},
   "outputs": [],
   "source": [
    "test = pd.DataFrame(d)"
   ]
  },
  {
   "cell_type": "code",
   "execution_count": 107,
   "metadata": {},
   "outputs": [
    {
     "data": {
      "text/plain": [
       "60"
      ]
     },
     "execution_count": 107,
     "metadata": {},
     "output_type": "execute_result"
    }
   ],
   "source": [
    "test[\"filename\"].nunique()"
   ]
  },
  {
   "cell_type": "code",
   "execution_count": 102,
   "metadata": {},
   "outputs": [
    {
     "data": {
      "text/plain": [
       "64"
      ]
     },
     "execution_count": 102,
     "metadata": {},
     "output_type": "execute_result"
    }
   ],
   "source": [
    "len(test)"
   ]
  },
  {
   "cell_type": "code",
   "execution_count": 119,
   "metadata": {},
   "outputs": [],
   "source": [
    "g = test.groupby([\"filename\"]).size().reset_index(name=\"counts\")"
   ]
  },
  {
   "cell_type": "code",
   "execution_count": 121,
   "metadata": {},
   "outputs": [
    {
     "data": {
      "text/html": [
       "<div>\n",
       "<style scoped>\n",
       "    .dataframe tbody tr th:only-of-type {\n",
       "        vertical-align: middle;\n",
       "    }\n",
       "\n",
       "    .dataframe tbody tr th {\n",
       "        vertical-align: top;\n",
       "    }\n",
       "\n",
       "    .dataframe thead th {\n",
       "        text-align: right;\n",
       "    }\n",
       "</style>\n",
       "<table border=\"1\" class=\"dataframe\">\n",
       "  <thead>\n",
       "    <tr style=\"text-align: right;\">\n",
       "      <th></th>\n",
       "      <th>filename</th>\n",
       "      <th>counts</th>\n",
       "    </tr>\n",
       "  </thead>\n",
       "  <tbody>\n",
       "    <tr>\n",
       "      <th>41</th>\n",
       "      <td>image62.jpg</td>\n",
       "      <td>2</td>\n",
       "    </tr>\n",
       "    <tr>\n",
       "      <th>42</th>\n",
       "      <td>image63.jpg</td>\n",
       "      <td>2</td>\n",
       "    </tr>\n",
       "    <tr>\n",
       "      <th>43</th>\n",
       "      <td>image64.jpg</td>\n",
       "      <td>2</td>\n",
       "    </tr>\n",
       "    <tr>\n",
       "      <th>44</th>\n",
       "      <td>image65.jpg</td>\n",
       "      <td>2</td>\n",
       "    </tr>\n",
       "  </tbody>\n",
       "</table>\n",
       "</div>"
      ],
      "text/plain": [
       "       filename  counts\n",
       "41  image62.jpg       2\n",
       "42  image63.jpg       2\n",
       "43  image64.jpg       2\n",
       "44  image65.jpg       2"
      ]
     },
     "execution_count": 121,
     "metadata": {},
     "output_type": "execute_result"
    }
   ],
   "source": [
    "g[g[\"counts\"]>1]"
   ]
  },
  {
   "cell_type": "code",
   "execution_count": 128,
   "metadata": {},
   "outputs": [
    {
     "name": "stdout",
     "output_type": "stream",
     "text": [
      "[{'shape_attributes': {'name': 'polygon', 'all_points_x': [204, 154, 116, 50, 39, 84, 119, 147, 176, 204, 198, 204], 'all_points_y': [200, 218, 238, 240, 234, 227, 216, 201, 184, 182, 203, 200]}, 'region_attributes': {'name': 'damage'}}]\n"
     ]
    }
   ],
   "source": [
    "print(test[test[\"filename\"]== \"image62.jpg\"][\"regions\"][5])"
   ]
  },
  {
   "cell_type": "code",
   "execution_count": 130,
   "metadata": {},
   "outputs": [
    {
     "name": "stdout",
     "output_type": "stream",
     "text": [
      "[{'shape_attributes': {'name': 'polygon', 'all_points_x': [255, 269, 280, 286, 318, 376, 520, 623, 675, 675, 665, 646, 601, 540, 459, 404, 317, 249, 241, 251, 255], 'all_points_y': [443, 458, 486, 503, 508, 504, 504, 501, 508, 476, 465, 434, 421, 415, 420, 418, 423, 419, 428, 433, 443]}, 'region_attributes': {'Class Name': 'damage'}}]\n"
     ]
    }
   ],
   "source": [
    "print(test[test[\"filename\"]== \"image62.jpg\"][\"regions\"][62])"
   ]
  },
  {
   "cell_type": "code",
   "execution_count": null,
   "metadata": {},
   "outputs": [],
   "source": []
  },
  {
   "cell_type": "code",
   "execution_count": 131,
   "metadata": {},
   "outputs": [],
   "source": [
    "test = pd.DataFrame(d)"
   ]
  },
  {
   "cell_type": "code",
   "execution_count": 132,
   "metadata": {},
   "outputs": [],
   "source": [
    "test = test.set_index(keys = [\"index\"])"
   ]
  },
  {
   "cell_type": "code",
   "execution_count": 133,
   "metadata": {},
   "outputs": [],
   "source": [
    "test = pd.concat([test, df3, df4], axis=0)"
   ]
  },
  {
   "cell_type": "code",
   "execution_count": 136,
   "metadata": {},
   "outputs": [],
   "source": [
    "test = test.drop_duplicates(subset=[\"filename\"])"
   ]
  },
  {
   "cell_type": "code",
   "execution_count": 137,
   "metadata": {},
   "outputs": [
    {
     "data": {
      "text/plain": [
       "130"
      ]
     },
     "execution_count": 137,
     "metadata": {},
     "output_type": "execute_result"
    }
   ],
   "source": [
    "len(test)"
   ]
  },
  {
   "cell_type": "code",
   "execution_count": 138,
   "metadata": {},
   "outputs": [
    {
     "data": {
      "text/html": [
       "<div>\n",
       "<style scoped>\n",
       "    .dataframe tbody tr th:only-of-type {\n",
       "        vertical-align: middle;\n",
       "    }\n",
       "\n",
       "    .dataframe tbody tr th {\n",
       "        vertical-align: top;\n",
       "    }\n",
       "\n",
       "    .dataframe thead th {\n",
       "        text-align: right;\n",
       "    }\n",
       "</style>\n",
       "<table border=\"1\" class=\"dataframe\">\n",
       "  <thead>\n",
       "    <tr style=\"text-align: right;\">\n",
       "      <th></th>\n",
       "      <th>filename</th>\n",
       "      <th>size</th>\n",
       "      <th>regions</th>\n",
       "      <th>file_attributes</th>\n",
       "    </tr>\n",
       "  </thead>\n",
       "  <tbody>\n",
       "    <tr>\n",
       "      <th>image67.jpg</th>\n",
       "      <td>image67.jpg</td>\n",
       "      <td>47277</td>\n",
       "      <td>[{'shape_attributes': {'name': 'polygon', 'all...</td>\n",
       "      <td>{}</td>\n",
       "    </tr>\n",
       "    <tr>\n",
       "      <th>image66.jpg</th>\n",
       "      <td>image66.jpg</td>\n",
       "      <td>19024</td>\n",
       "      <td>[{'shape_attributes': {'name': 'polygon', 'all...</td>\n",
       "      <td>{}</td>\n",
       "    </tr>\n",
       "    <tr>\n",
       "      <th>image65.jpg</th>\n",
       "      <td>image65.jpg</td>\n",
       "      <td>102144</td>\n",
       "      <td>[{'shape_attributes': {'name': 'polygon', 'all...</td>\n",
       "      <td>{}</td>\n",
       "    </tr>\n",
       "    <tr>\n",
       "      <th>image64.jpg</th>\n",
       "      <td>image64.jpg</td>\n",
       "      <td>85335</td>\n",
       "      <td>[{'shape_attributes': {'name': 'polygon', 'all...</td>\n",
       "      <td>{}</td>\n",
       "    </tr>\n",
       "    <tr>\n",
       "      <th>image63.jpg</th>\n",
       "      <td>image63.jpg</td>\n",
       "      <td>24447</td>\n",
       "      <td>[{'shape_attributes': {'name': 'polygon', 'all...</td>\n",
       "      <td>{}</td>\n",
       "    </tr>\n",
       "    <tr>\n",
       "      <th>...</th>\n",
       "      <td>...</td>\n",
       "      <td>...</td>\n",
       "      <td>...</td>\n",
       "      <td>...</td>\n",
       "    </tr>\n",
       "    <tr>\n",
       "      <th>47.jpg98681</th>\n",
       "      <td>47.jpg</td>\n",
       "      <td>98681</td>\n",
       "      <td>[{'shape_attributes': {'name': 'polygon', 'all...</td>\n",
       "      <td>{}</td>\n",
       "    </tr>\n",
       "    <tr>\n",
       "      <th>50.jpg139156</th>\n",
       "      <td>50.jpg</td>\n",
       "      <td>139156</td>\n",
       "      <td>[{'shape_attributes': {'name': 'polygon', 'all...</td>\n",
       "      <td>{}</td>\n",
       "    </tr>\n",
       "    <tr>\n",
       "      <th>58.jpg88417</th>\n",
       "      <td>58.jpg</td>\n",
       "      <td>88417</td>\n",
       "      <td>[{'shape_attributes': {'name': 'polygon', 'all...</td>\n",
       "      <td>{}</td>\n",
       "    </tr>\n",
       "    <tr>\n",
       "      <th>69.jpg112352</th>\n",
       "      <td>69.jpg</td>\n",
       "      <td>112352</td>\n",
       "      <td>[{'shape_attributes': {'name': 'polygon', 'all...</td>\n",
       "      <td>{}</td>\n",
       "    </tr>\n",
       "    <tr>\n",
       "      <th>77.jpg90740</th>\n",
       "      <td>77.jpg</td>\n",
       "      <td>90740</td>\n",
       "      <td>[{'shape_attributes': {'name': 'polygon', 'all...</td>\n",
       "      <td>{}</td>\n",
       "    </tr>\n",
       "  </tbody>\n",
       "</table>\n",
       "<p>130 rows × 4 columns</p>\n",
       "</div>"
      ],
      "text/plain": [
       "                 filename    size  \\\n",
       "image67.jpg   image67.jpg   47277   \n",
       "image66.jpg   image66.jpg   19024   \n",
       "image65.jpg   image65.jpg  102144   \n",
       "image64.jpg   image64.jpg   85335   \n",
       "image63.jpg   image63.jpg   24447   \n",
       "...                   ...     ...   \n",
       "47.jpg98681        47.jpg   98681   \n",
       "50.jpg139156       50.jpg  139156   \n",
       "58.jpg88417        58.jpg   88417   \n",
       "69.jpg112352       69.jpg  112352   \n",
       "77.jpg90740        77.jpg   90740   \n",
       "\n",
       "                                                        regions  \\\n",
       "image67.jpg   [{'shape_attributes': {'name': 'polygon', 'all...   \n",
       "image66.jpg   [{'shape_attributes': {'name': 'polygon', 'all...   \n",
       "image65.jpg   [{'shape_attributes': {'name': 'polygon', 'all...   \n",
       "image64.jpg   [{'shape_attributes': {'name': 'polygon', 'all...   \n",
       "image63.jpg   [{'shape_attributes': {'name': 'polygon', 'all...   \n",
       "...                                                         ...   \n",
       "47.jpg98681   [{'shape_attributes': {'name': 'polygon', 'all...   \n",
       "50.jpg139156  [{'shape_attributes': {'name': 'polygon', 'all...   \n",
       "58.jpg88417   [{'shape_attributes': {'name': 'polygon', 'all...   \n",
       "69.jpg112352  [{'shape_attributes': {'name': 'polygon', 'all...   \n",
       "77.jpg90740   [{'shape_attributes': {'name': 'polygon', 'all...   \n",
       "\n",
       "             file_attributes  \n",
       "image67.jpg               {}  \n",
       "image66.jpg               {}  \n",
       "image65.jpg               {}  \n",
       "image64.jpg               {}  \n",
       "image63.jpg               {}  \n",
       "...                      ...  \n",
       "47.jpg98681               {}  \n",
       "50.jpg139156              {}  \n",
       "58.jpg88417               {}  \n",
       "69.jpg112352              {}  \n",
       "77.jpg90740               {}  \n",
       "\n",
       "[130 rows x 4 columns]"
      ]
     },
     "execution_count": 138,
     "metadata": {},
     "output_type": "execute_result"
    }
   ],
   "source": [
    "test"
   ]
  },
  {
   "cell_type": "code",
   "execution_count": 139,
   "metadata": {},
   "outputs": [],
   "source": [
    "# test.to_json(\"final.json\", orient=\"index\")"
   ]
  },
  {
   "cell_type": "markdown",
   "metadata": {},
   "source": [
    "# Renaming Files"
   ]
  },
  {
   "cell_type": "code",
   "execution_count": 141,
   "metadata": {},
   "outputs": [],
   "source": [
    "test = test.reset_index()"
   ]
  },
  {
   "cell_type": "code",
   "execution_count": 153,
   "metadata": {},
   "outputs": [],
   "source": [
    "test1 = test"
   ]
  },
  {
   "cell_type": "code",
   "execution_count": 158,
   "metadata": {},
   "outputs": [],
   "source": [
    "collection = \"Dataset_v1/\""
   ]
  },
  {
   "cell_type": "code",
   "execution_count": 170,
   "metadata": {},
   "outputs": [],
   "source": [
    "counter = 1\n",
    "tracker = []\n",
    "\n",
    "for index, row in test1.iterrows():\n",
    "#     print(row[\"filename\"])\n",
    "    name = row[\"filename\"]\n",
    "    \n",
    "    path = collection + name\n",
    "    \n",
    "    \n",
    "    \n",
    "    if os.path.isfile(path):\n",
    "        tracker.append(index)\n",
    "        \n",
    "        new_name = f\"car{counter}.jpg\"\n",
    "        \n",
    "        test1.loc[index, \"index\"] = new_name\n",
    "        test1.loc[index, \"filename\"] = new_name\n",
    "        \n",
    "        os.rename(path, collection + new_name)\n",
    "        \n",
    "        counter += 1"
   ]
  },
  {
   "cell_type": "code",
   "execution_count": 171,
   "metadata": {},
   "outputs": [
    {
     "data": {
      "text/html": [
       "<div>\n",
       "<style scoped>\n",
       "    .dataframe tbody tr th:only-of-type {\n",
       "        vertical-align: middle;\n",
       "    }\n",
       "\n",
       "    .dataframe tbody tr th {\n",
       "        vertical-align: top;\n",
       "    }\n",
       "\n",
       "    .dataframe thead th {\n",
       "        text-align: right;\n",
       "    }\n",
       "</style>\n",
       "<table border=\"1\" class=\"dataframe\">\n",
       "  <thead>\n",
       "    <tr style=\"text-align: right;\">\n",
       "      <th></th>\n",
       "      <th>index</th>\n",
       "      <th>filename</th>\n",
       "      <th>size</th>\n",
       "      <th>regions</th>\n",
       "      <th>file_attributes</th>\n",
       "    </tr>\n",
       "  </thead>\n",
       "  <tbody>\n",
       "    <tr>\n",
       "      <th>0</th>\n",
       "      <td>car1.jpg</td>\n",
       "      <td>car1.jpg</td>\n",
       "      <td>47277</td>\n",
       "      <td>[{'shape_attributes': {'name': 'polygon', 'all...</td>\n",
       "      <td>{}</td>\n",
       "    </tr>\n",
       "    <tr>\n",
       "      <th>1</th>\n",
       "      <td>car2.jpg</td>\n",
       "      <td>car2.jpg</td>\n",
       "      <td>19024</td>\n",
       "      <td>[{'shape_attributes': {'name': 'polygon', 'all...</td>\n",
       "      <td>{}</td>\n",
       "    </tr>\n",
       "    <tr>\n",
       "      <th>2</th>\n",
       "      <td>car3.jpg</td>\n",
       "      <td>car3.jpg</td>\n",
       "      <td>102144</td>\n",
       "      <td>[{'shape_attributes': {'name': 'polygon', 'all...</td>\n",
       "      <td>{}</td>\n",
       "    </tr>\n",
       "    <tr>\n",
       "      <th>3</th>\n",
       "      <td>car4.jpg</td>\n",
       "      <td>car4.jpg</td>\n",
       "      <td>85335</td>\n",
       "      <td>[{'shape_attributes': {'name': 'polygon', 'all...</td>\n",
       "      <td>{}</td>\n",
       "    </tr>\n",
       "    <tr>\n",
       "      <th>4</th>\n",
       "      <td>car5.jpg</td>\n",
       "      <td>car5.jpg</td>\n",
       "      <td>24447</td>\n",
       "      <td>[{'shape_attributes': {'name': 'polygon', 'all...</td>\n",
       "      <td>{}</td>\n",
       "    </tr>\n",
       "  </tbody>\n",
       "</table>\n",
       "</div>"
      ],
      "text/plain": [
       "      index  filename    size  \\\n",
       "0  car1.jpg  car1.jpg   47277   \n",
       "1  car2.jpg  car2.jpg   19024   \n",
       "2  car3.jpg  car3.jpg  102144   \n",
       "3  car4.jpg  car4.jpg   85335   \n",
       "4  car5.jpg  car5.jpg   24447   \n",
       "\n",
       "                                             regions file_attributes  \n",
       "0  [{'shape_attributes': {'name': 'polygon', 'all...              {}  \n",
       "1  [{'shape_attributes': {'name': 'polygon', 'all...              {}  \n",
       "2  [{'shape_attributes': {'name': 'polygon', 'all...              {}  \n",
       "3  [{'shape_attributes': {'name': 'polygon', 'all...              {}  \n",
       "4  [{'shape_attributes': {'name': 'polygon', 'all...              {}  "
      ]
     },
     "execution_count": 171,
     "metadata": {},
     "output_type": "execute_result"
    }
   ],
   "source": [
    "test1.head()"
   ]
  },
  {
   "cell_type": "code",
   "execution_count": 173,
   "metadata": {},
   "outputs": [],
   "source": [
    "test1 = test1.set_index(\"index\")"
   ]
  },
  {
   "cell_type": "code",
   "execution_count": 174,
   "metadata": {},
   "outputs": [],
   "source": [
    "test1.to_json(\"final_v2.json\", orient=\"index\")"
   ]
  },
  {
   "cell_type": "code",
   "execution_count": null,
   "metadata": {},
   "outputs": [],
   "source": []
  },
  {
   "cell_type": "code",
   "execution_count": 41,
   "metadata": {
    "scrolled": true
   },
   "outputs": [
    {
     "data": {
      "text/plain": [
       "[{'shape_attributes': {'name': 'polygon',\n",
       "   'all_points_x': [298, 327, 346, 369, 522, 512, 488, 393, 307, 288, 298],\n",
       "   'all_points_y': [199, 203, 241, 265, 246, 290, 320, 322, 318, 264, 199]},\n",
       "  'region_attributes': {'name': 'damage'}},\n",
       " {'shape_attributes': {'name': 'polygon',\n",
       "   'all_points_x': [241, 237, 220, 193, 150, 173, 212, 247, 248, 241],\n",
       "   'all_points_y': [167, 172, 194, 199, 206, 210, 202, 184, 165, 167]},\n",
       "  'region_attributes': {'name': 'damage'}}]"
      ]
     },
     "execution_count": 41,
     "metadata": {},
     "output_type": "execute_result"
    }
   ],
   "source": [
    "list(df1[\"regions\"][3].values())"
   ]
  },
  {
   "cell_type": "code",
   "execution_count": 23,
   "metadata": {},
   "outputs": [
    {
     "data": {
      "text/html": [
       "<div>\n",
       "<style scoped>\n",
       "    .dataframe tbody tr th:only-of-type {\n",
       "        vertical-align: middle;\n",
       "    }\n",
       "\n",
       "    .dataframe tbody tr th {\n",
       "        vertical-align: top;\n",
       "    }\n",
       "\n",
       "    .dataframe thead th {\n",
       "        text-align: right;\n",
       "    }\n",
       "</style>\n",
       "<table border=\"1\" class=\"dataframe\">\n",
       "  <thead>\n",
       "    <tr style=\"text-align: right;\">\n",
       "      <th></th>\n",
       "      <th>filename</th>\n",
       "      <th>size</th>\n",
       "      <th>regions</th>\n",
       "      <th>file_attributes</th>\n",
       "    </tr>\n",
       "  </thead>\n",
       "  <tbody>\n",
       "    <tr>\n",
       "      <th>2.jpg94448</th>\n",
       "      <td>2.jpg</td>\n",
       "      <td>94448</td>\n",
       "      <td>[{'shape_attributes': {'name': 'polygon', 'all...</td>\n",
       "      <td>{}</td>\n",
       "    </tr>\n",
       "    <tr>\n",
       "      <th>3.jpg100697</th>\n",
       "      <td>3.jpg</td>\n",
       "      <td>100697</td>\n",
       "      <td>[{'shape_attributes': {'name': 'polygon', 'all...</td>\n",
       "      <td>{}</td>\n",
       "    </tr>\n",
       "    <tr>\n",
       "      <th>5.jpg75055</th>\n",
       "      <td>5.jpg</td>\n",
       "      <td>75055</td>\n",
       "      <td>[{'shape_attributes': {'name': 'polygon', 'all...</td>\n",
       "      <td>{}</td>\n",
       "    </tr>\n",
       "    <tr>\n",
       "      <th>6.jpg51549</th>\n",
       "      <td>6.jpg</td>\n",
       "      <td>51549</td>\n",
       "      <td>[{'shape_attributes': {'name': 'polygon', 'all...</td>\n",
       "      <td>{}</td>\n",
       "    </tr>\n",
       "    <tr>\n",
       "      <th>7.jpg74180</th>\n",
       "      <td>7.jpg</td>\n",
       "      <td>74180</td>\n",
       "      <td>[{'shape_attributes': {'name': 'polygon', 'all...</td>\n",
       "      <td>{}</td>\n",
       "    </tr>\n",
       "  </tbody>\n",
       "</table>\n",
       "</div>"
      ],
      "text/plain": [
       "            filename    size  \\\n",
       "2.jpg94448     2.jpg   94448   \n",
       "3.jpg100697    3.jpg  100697   \n",
       "5.jpg75055     5.jpg   75055   \n",
       "6.jpg51549     6.jpg   51549   \n",
       "7.jpg74180     7.jpg   74180   \n",
       "\n",
       "                                                       regions file_attributes  \n",
       "2.jpg94448   [{'shape_attributes': {'name': 'polygon', 'all...              {}  \n",
       "3.jpg100697  [{'shape_attributes': {'name': 'polygon', 'all...              {}  \n",
       "5.jpg75055   [{'shape_attributes': {'name': 'polygon', 'all...              {}  \n",
       "6.jpg51549   [{'shape_attributes': {'name': 'polygon', 'all...              {}  \n",
       "7.jpg74180   [{'shape_attributes': {'name': 'polygon', 'all...              {}  "
      ]
     },
     "execution_count": 23,
     "metadata": {},
     "output_type": "execute_result"
    }
   ],
   "source": [
    "df2.head()"
   ]
  },
  {
   "cell_type": "code",
   "execution_count": null,
   "metadata": {},
   "outputs": [],
   "source": []
  },
  {
   "cell_type": "code",
   "execution_count": null,
   "metadata": {},
   "outputs": [],
   "source": []
  },
  {
   "cell_type": "code",
   "execution_count": null,
   "metadata": {},
   "outputs": [],
   "source": []
  },
  {
   "cell_type": "code",
   "execution_count": 18,
   "metadata": {},
   "outputs": [
    {
     "data": {
      "text/plain": [
       "'image67.jpg'"
      ]
     },
     "execution_count": 18,
     "metadata": {},
     "output_type": "execute_result"
    }
   ],
   "source": [
    "re.sub(r'\\d+$', '', \"image67.jpg4772\")"
   ]
  },
  {
   "cell_type": "code",
   "execution_count": null,
   "metadata": {},
   "outputs": [],
   "source": []
  },
  {
   "cell_type": "code",
   "execution_count": 7,
   "metadata": {},
   "outputs": [],
   "source": [
    "collection = \"Dataset_v1/\""
   ]
  },
  {
   "cell_type": "code",
   "execution_count": 9,
   "metadata": {},
   "outputs": [
    {
     "data": {
      "text/plain": [
       "True"
      ]
     },
     "execution_count": 9,
     "metadata": {},
     "output_type": "execute_result"
    }
   ],
   "source": [
    "os.path.isfile(collection  + \"image67.jpg\")"
   ]
  },
  {
   "cell_type": "code",
   "execution_count": 6,
   "metadata": {},
   "outputs": [
    {
     "data": {
      "text/plain": [
       "['63.jpg',\n",
       " '77.jpg',\n",
       " 'image63.jpg',\n",
       " 'image75.jpeg',\n",
       " 'image77.jpg',\n",
       " 'image76.jpg',\n",
       " 'image62.jpg',\n",
       " 'image18.jpeg',\n",
       " '76.jpg',\n",
       " '62.jpg',\n",
       " '74.jpg',\n",
       " '60.jpg',\n",
       " '48.jpg',\n",
       " 'image60.jpg',\n",
       " 'image48.jpg',\n",
       " 'image49.jpg',\n",
       " 'image61.jpg',\n",
       " 'image75.jpg',\n",
       " 'image55.jpeg',\n",
       " '49.jpg',\n",
       " '61.jpg',\n",
       " '75.jpg',\n",
       " '59.jpg',\n",
       " '71.jpg',\n",
       " 'image8.jpg',\n",
       " 'image59.png',\n",
       " '.DS_Store',\n",
       " 'image65.jpg',\n",
       " 'image64.jpg',\n",
       " 'image58.jpg',\n",
       " '64.jpg',\n",
       " '70.jpg',\n",
       " '58.jpg',\n",
       " '8.jpg',\n",
       " '66.jpg',\n",
       " '72.jpg',\n",
       " 'image19.jpeg',\n",
       " 'image1.jpeg',\n",
       " 'image66.jpg',\n",
       " 'image73.jpg',\n",
       " 'image74.jpeg',\n",
       " 'image67.jpg',\n",
       " '73.jpg',\n",
       " '67.jpg',\n",
       " '9.jpg',\n",
       " '14.jpg',\n",
       " '28.jpg',\n",
       " 'image14.jpg',\n",
       " 'image28.jpg',\n",
       " 'image15.jpg',\n",
       " '61.jpeg',\n",
       " '29.jpg',\n",
       " '15.jpg',\n",
       " '17.jpg',\n",
       " 'image17.jpg',\n",
       " 'image16.jpg',\n",
       " '16.jpg',\n",
       " '12.jpg',\n",
       " 'image72.jpeg',\n",
       " 'image13.jpg',\n",
       " 'test1.jpg',\n",
       " '13.jpg',\n",
       " '39.jpg',\n",
       " '11.jpg',\n",
       " 'image39.jpg',\n",
       " 'image10.jpg',\n",
       " 'image38.jpg',\n",
       " 'test2.jpg',\n",
       " '10.jpg',\n",
       " '38.jpg',\n",
       " '21.jpg',\n",
       " '18.jpeg',\n",
       " '34.jpg',\n",
       " '20.jpg',\n",
       " '36.jpg',\n",
       " '22.jpg',\n",
       " '23.jpg',\n",
       " '37.jpg',\n",
       " '33.jpg',\n",
       " '27.jpg',\n",
       " 'image33.jpg',\n",
       " 'image5.jpeg',\n",
       " '26.jpg',\n",
       " '32.jpg',\n",
       " '18.jpg',\n",
       " '24.jpg',\n",
       " '30.jpg',\n",
       " 'image9.jpeg',\n",
       " 'image46.jpeg',\n",
       " '31.jpg',\n",
       " '25.jpg',\n",
       " '19.jpg',\n",
       " '42.jpg',\n",
       " '4.jpg',\n",
       " '56.jpg',\n",
       " 'image7.jpg',\n",
       " 'image42.jpg',\n",
       " 'image56.jpg',\n",
       " 'image80.jpg',\n",
       " 'image57.jpg',\n",
       " 'image43.jpg',\n",
       " 'image6.png',\n",
       " '80.jpg',\n",
       " '5.jpg',\n",
       " '57.jpg',\n",
       " '43.jpg',\n",
       " '55.jpg',\n",
       " '7.jpg',\n",
       " '41.jpg',\n",
       " '69.jpg',\n",
       " 'image4.jpg',\n",
       " 'image54.jpg',\n",
       " '68.jpg',\n",
       " '40.jpg',\n",
       " '54.jpg',\n",
       " '6.jpg',\n",
       " '78.jpg',\n",
       " '2.jpg',\n",
       " '50.jpg',\n",
       " '44.jpg',\n",
       " 'image78.jpg',\n",
       " 'image50.jpg',\n",
       " 'image44.jpg',\n",
       " 'image45.jpg',\n",
       " 'image79.jpg',\n",
       " 'image51.png',\n",
       " 'image40.jpeg',\n",
       " '45.jpg',\n",
       " '3.jpg',\n",
       " '51.jpg',\n",
       " '79.jpg',\n",
       " '47.jpg',\n",
       " '53.jpg',\n",
       " '1.jpg',\n",
       " 'image2.jpg',\n",
       " 'image21.jpeg',\n",
       " 'image47.jpg',\n",
       " 'image53.jpg',\n",
       " 'image52.jpg',\n",
       " 'image3.jpg',\n",
       " '52.jpg',\n",
       " '46.jpg']"
      ]
     },
     "execution_count": 6,
     "metadata": {},
     "output_type": "execute_result"
    }
   ],
   "source": [
    "os.listdir('Dataset_v1/')"
   ]
  },
  {
   "cell_type": "code",
   "execution_count": null,
   "metadata": {},
   "outputs": [],
   "source": []
  },
  {
   "cell_type": "markdown",
   "metadata": {},
   "source": [
    "# Final Dataset"
   ]
  },
  {
   "cell_type": "code",
   "execution_count": 5,
   "metadata": {},
   "outputs": [],
   "source": [
    "df1 = pd.read_json(\"./1-40.json\", orient=\"index\")\n",
    "df2 = pd.read_json(\"./41-80.json\", orient=\"index\")\n",
    "df3 = pd.read_json(\"./81-120.json\", orient=\"index\")\n",
    "df4 = pd.read_json(\"./121-140.json\", orient=\"index\")"
   ]
  },
  {
   "cell_type": "code",
   "execution_count": 9,
   "metadata": {},
   "outputs": [],
   "source": [
    "final = pd.concat([df1[:40], df2[40:80], df3[80:120], df4[120:141]], axis=0)"
   ]
  },
  {
   "cell_type": "code",
   "execution_count": 11,
   "metadata": {},
   "outputs": [
    {
     "data": {
      "text/plain": [
       "141"
      ]
     },
     "execution_count": 11,
     "metadata": {},
     "output_type": "execute_result"
    }
   ],
   "source": [
    "len(final)"
   ]
  },
  {
   "cell_type": "code",
   "execution_count": 12,
   "metadata": {},
   "outputs": [],
   "source": [
    "#final.to_json(\"model_training-v1.json\", orient=\"index\")"
   ]
  },
  {
   "cell_type": "code",
   "execution_count": null,
   "metadata": {},
   "outputs": [],
   "source": []
  },
  {
   "cell_type": "markdown",
   "metadata": {},
   "source": [
    "# Train Test Split"
   ]
  },
  {
   "cell_type": "code",
   "execution_count": 15,
   "metadata": {},
   "outputs": [],
   "source": [
    "from sklearn.model_selection import train_test_split"
   ]
  },
  {
   "cell_type": "code",
   "execution_count": 17,
   "metadata": {},
   "outputs": [],
   "source": [
    "X_train, y_test = train_test_split(final ,test_size=0.1, random_state=42)"
   ]
  },
  {
   "cell_type": "code",
   "execution_count": 19,
   "metadata": {},
   "outputs": [
    {
     "data": {
      "text/plain": [
       "126"
      ]
     },
     "execution_count": 19,
     "metadata": {},
     "output_type": "execute_result"
    }
   ],
   "source": [
    "len(X_train)"
   ]
  },
  {
   "cell_type": "code",
   "execution_count": 21,
   "metadata": {},
   "outputs": [
    {
     "data": {
      "text/plain": [
       "15"
      ]
     },
     "execution_count": 21,
     "metadata": {},
     "output_type": "execute_result"
    }
   ],
   "source": [
    "len(y_test)"
   ]
  },
  {
   "cell_type": "code",
   "execution_count": 23,
   "metadata": {},
   "outputs": [],
   "source": [
    "#X_train.to_json(\"train.json\", orient=\"index\")"
   ]
  },
  {
   "cell_type": "code",
   "execution_count": 24,
   "metadata": {},
   "outputs": [],
   "source": [
    "#y_test.to_json(\"val.json\", orient=\"index\")"
   ]
  },
  {
   "cell_type": "code",
   "execution_count": null,
   "metadata": {},
   "outputs": [],
   "source": []
  },
  {
   "cell_type": "code",
   "execution_count": null,
   "metadata": {},
   "outputs": [],
   "source": []
  }
 ],
 "metadata": {
  "kernelspec": {
   "display_name": "Python 3",
   "language": "python",
   "name": "python3"
  },
  "language_info": {
   "codemirror_mode": {
    "name": "ipython",
    "version": 3
   },
   "file_extension": ".py",
   "mimetype": "text/x-python",
   "name": "python",
   "nbconvert_exporter": "python",
   "pygments_lexer": "ipython3",
   "version": "3.7.11"
  }
 },
 "nbformat": 4,
 "nbformat_minor": 2
}
